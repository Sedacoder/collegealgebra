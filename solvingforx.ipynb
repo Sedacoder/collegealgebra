{
  "nbformat": 4,
  "nbformat_minor": 0,
  "metadata": {
    "colab": {
      "provenance": [],
      "authorship_tag": "ABX9TyNhtVyGwnR5rRWd1G0pyZir",
      "include_colab_link": true
    },
    "kernelspec": {
      "name": "python3",
      "display_name": "Python 3"
    },
    "language_info": {
      "name": "python"
    }
  },
  "cells": [
    {
      "cell_type": "markdown",
      "metadata": {
        "id": "view-in-github",
        "colab_type": "text"
      },
      "source": [
        "<a href=\"https://colab.research.google.com/github/Sedacoder/collegealgebra/blob/main/solvingforx.ipynb\" target=\"_parent\"><img src=\"https://colab.research.google.com/assets/colab-badge.svg\" alt=\"Open In Colab\"/></a>"
      ]
    },
    {
      "cell_type": "code",
      "execution_count": 7,
      "metadata": {
        "id": "tWAIbz0sxX1V",
        "colab": {
          "base_uri": "https://localhost:8080/"
        },
        "outputId": "1b3d3702-898f-47ae-ed96-255968e0be72"
      },
      "outputs": [
        {
          "output_type": "execute_result",
          "data": {
            "text/plain": [
              "[-sqrt(2)*I/2, sqrt(2)*I/2]"
            ]
          },
          "metadata": {},
          "execution_count": 7
        }
      ],
      "source": [
        "import sympy\n",
        "from sympy import symbols\n",
        "from sympy.solvers import solve\n",
        "\n",
        "x = symbols( 'x' )\n",
        "\n",
        "#Put the equation here\n",
        "\n",
        "eq = 2*x**2  + 1\n",
        "\n",
        "solve(eq,x)"
      ]
    },
    {
      "cell_type": "markdown",
      "source": [
        "#MAKE SOMEBODY GIVE INPUT\n"
      ],
      "metadata": {
        "id": "D21h76maOunZ"
      }
    },
    {
      "cell_type": "code",
      "source": [
        "import sympy\n",
        "from sympy import symbols\n",
        "from sympy.solvers import solve\n",
        "\n",
        "x = symbols( 'x' )\n",
        "\n",
        "eq = input(\"Enter equation : 0 = \")\n",
        "print(\"x = \" , solve(eq,x))"
      ],
      "metadata": {
        "colab": {
          "base_uri": "https://localhost:8080/"
        },
        "id": "0eK0RZa6O35Y",
        "outputId": "2dea81c5-45e9-48f2-e781-ab6893f98400"
      },
      "execution_count": 11,
      "outputs": [
        {
          "output_type": "stream",
          "name": "stdout",
          "text": [
            "Enter equation : 0 = x**2 - 7\n",
            "x =  [-sqrt(7), sqrt(7)]\n"
          ]
        }
      ]
    },
    {
      "cell_type": "markdown",
      "source": [
        "#Fancier"
      ],
      "metadata": {
        "id": "Z1I-kTVhP86Z"
      }
    },
    {
      "cell_type": "code",
      "source": [
        "import sympy\n",
        "from sympy import symbols\n",
        "from sympy.solvers import solve\n",
        "\n",
        "x = symbols( 'x' )\n",
        "\n",
        "#Put the equation here\n",
        "\n",
        "eq = 2*x - 4\n",
        "\n",
        "solution = solve(eq,x)\n",
        "\n",
        "print(solution[0])"
      ],
      "metadata": {
        "colab": {
          "base_uri": "https://localhost:8080/"
        },
        "id": "YtZvA1UQQBXA",
        "outputId": "0310d930-8940-4af7-bf02-29e151257ac7"
      },
      "execution_count": 13,
      "outputs": [
        {
          "output_type": "stream",
          "name": "stdout",
          "text": [
            "2\n"
          ]
        }
      ]
    },
    {
      "cell_type": "code",
      "source": [
        "import sympy\n",
        "from sympy import symbols\n",
        "from sympy.solvers import solve\n",
        "\n",
        "x = symbols( 'x' )\n",
        "\n",
        "eq = input(\"Enter equation : 0 = \")\n",
        "\n",
        "solution = solve(eq,x)\n",
        "for s in solution:\n",
        "  print(\"x = \",s)"
      ],
      "metadata": {
        "colab": {
          "base_uri": "https://localhost:8080/"
        },
        "id": "zrY_Bqy8QZgp",
        "outputId": "40a4e7fe-a440-47e5-d419-08eb8e1333e0"
      },
      "execution_count": 20,
      "outputs": [
        {
          "output_type": "stream",
          "name": "stdout",
          "text": [
            "Enter equation : 0 = x - 10\n",
            "x =  10\n"
          ]
        }
      ]
    },
    {
      "cell_type": "code",
      "source": [
        "from sympy import *\n",
        "\n",
        "\n",
        "var('x y')\n",
        "\n",
        "# First equation set equal to zero, ready to solve\n",
        "first = 2*x - y\n",
        "\n",
        "\n",
        "# Sympy syntax for equation equal to zero, ready to factor\n",
        "#The 0 represents what the equation(eq1) is equal to\n",
        "eq1 = Eq(first,0)\n",
        "\n",
        "# Sympy solve for x\n",
        "#The x is what we are solving for\n",
        "sol = solve(eq1,x)\n",
        "\n",
        "# Show factored results\n",
        "print(\"x = \", sol[0])\n",
        "\n"
      ],
      "metadata": {
        "colab": {
          "base_uri": "https://localhost:8080/"
        },
        "id": "SKxR-Eq3ToSc",
        "outputId": "c7a7ac85-2d38-4177-c5df-8968cba618bc"
      },
      "execution_count": 22,
      "outputs": [
        {
          "output_type": "stream",
          "name": "stdout",
          "text": [
            "x =  y/2\n"
          ]
        }
      ]
    }
  ]
}